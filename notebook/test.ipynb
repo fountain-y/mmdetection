{
 "cells": [
  {
   "cell_type": "code",
   "execution_count": 129,
   "metadata": {},
   "outputs": [],
   "source": [
    "import mmcv\n",
    "import numpy as np\n",
    "import torch\n",
    "from mmcv import Config\n",
    "from torch import nn\n",
    "from torch.nn import functional as F\n",
    "from torch.nn import init\n",
    "from torch.autograd import Variable"
   ]
  },
  {
   "cell_type": "code",
   "execution_count": 71,
   "metadata": {},
   "outputs": [],
   "source": [
    "import matplotlib.pyplot as plt"
   ]
  },
  {
   "cell_type": "code",
   "execution_count": 10,
   "metadata": {},
   "outputs": [],
   "source": [
    "cfg = Config.fromfile('./config1.py')\n",
    "cfg"
   ]
  },
  {
   "cell_type": "code",
   "execution_count": 13,
   "metadata": {},
   "outputs": [
    {
     "data": {
      "text/plain": [
       "Config (path: ./config1.py): {'loss_bbox': {'type': 'IoULoss', 'eps': 1e-06, 'loss_weight': 1.0, 'reduction': 'none'}}"
      ]
     },
     "execution_count": 13,
     "metadata": {},
     "output_type": "execute_result"
    }
   ],
   "source": [
    "cfg = Config.fromfile('./config1.py')\n",
    "cfg"
   ]
  },
  {
   "cell_type": "code",
   "execution_count": 19,
   "metadata": {},
   "outputs": [
    {
     "data": {
      "text/plain": [
       "{'type': 'IoULoss', 'eps': 1e-06, 'loss_weight': 1.0, 'reduction': 'none'}"
      ]
     },
     "execution_count": 19,
     "metadata": {},
     "output_type": "execute_result"
    }
   ],
   "source": [
    "cfg.loss_bbox"
   ]
  },
  {
   "cell_type": "code",
   "execution_count": 37,
   "metadata": {},
   "outputs": [],
   "source": [
    "class Dict(dict):\n",
    "    def __init__(self, *args):\n",
    "        super().__init__()\n",
    "        for arg in args:\n",
    "            for key, val in arg.items():\n",
    "                # 对字典对象进行属性设置，并进行迭代\n",
    "                self[key] = self._hook(val)\n",
    "                \n",
    "    def _hook(self, item):\n",
    "        if isinstance(item, dict):\n",
    "            return Dict(item)  # 递归调用\n",
    "        return item\n",
    "        \n",
    "    def __getattr__(self, item):\n",
    "        print('getattr')\n",
    "        return self[item]"
   ]
  },
  {
   "cell_type": "code",
   "execution_count": 38,
   "metadata": {},
   "outputs": [],
   "source": [
    "a = Dict({'key1' : 123})"
   ]
  },
  {
   "cell_type": "code",
   "execution_count": 41,
   "metadata": {},
   "outputs": [
    {
     "data": {
      "text/plain": [
       "123"
      ]
     },
     "execution_count": 41,
     "metadata": {},
     "output_type": "execute_result"
    }
   ],
   "source": [
    "a.key1"
   ]
  },
  {
   "cell_type": "code",
   "execution_count": 1,
   "metadata": {},
   "outputs": [],
   "source": [
    "fun = lambda x1,x2 : x1*x2"
   ]
  },
  {
   "cell_type": "code",
   "execution_count": 2,
   "metadata": {},
   "outputs": [
    {
     "data": {
      "text/plain": [
       "30"
      ]
     },
     "execution_count": 2,
     "metadata": {},
     "output_type": "execute_result"
    }
   ],
   "source": [
    "fun(5, 6)"
   ]
  },
  {
   "cell_type": "code",
   "execution_count": 5,
   "metadata": {},
   "outputs": [],
   "source": [
    "file_json = mmcv.load('./tmp.json')"
   ]
  },
  {
   "cell_type": "code",
   "execution_count": 11,
   "metadata": {},
   "outputs": [
    {
     "data": {
      "text/plain": [
       "{'sites': [{'name': '菜鸟教程', 'url': 'www.runoob.com'},\n",
       "  {'name': 'google', 'url': 'www.google.com'},\n",
       "  {'name': '微博', 'url': 'www.weibo.com'}]}"
      ]
     },
     "execution_count": 11,
     "metadata": {},
     "output_type": "execute_result"
    }
   ],
   "source": [
    "file_json"
   ]
  },
  {
   "cell_type": "code",
   "execution_count": 10,
   "metadata": {},
   "outputs": [
    {
     "data": {
      "text/plain": [
       "dict"
      ]
     },
     "execution_count": 10,
     "metadata": {},
     "output_type": "execute_result"
    }
   ],
   "source": [
    "type(file_json)"
   ]
  },
  {
   "cell_type": "code",
   "execution_count": 10,
   "metadata": {},
   "outputs": [],
   "source": [
    "def bbox_overlaps(bboxes1, bboxes2, mode='iou'):\n",
    "    \"\"\"Calculate the ious between each bbox of bboxes1 and bboxes2.\n",
    "    Args:\n",
    "        bboxes1(ndarray): shape (n, 4)\n",
    "        bboxes2(ndarray): shape (k, 4)\n",
    "        mode(str): iou (intersection over union) or iof (intersection\n",
    "            over foreground)\n",
    "    Returns:\n",
    "        ious(ndarray): shape (n, k)\n",
    "    \"\"\"\n",
    "    \n",
    "    assert mode in ['iou', 'iof']\n",
    "    \n",
    "    bboxes1 = bboxes1.astype(np.float32)\n",
    "    bboxes2 = bboxes2.astype(np.float32)\n",
    "    rows = bboxes1.shape[0]\n",
    "    cols = bboxes2.shape[0]\n",
    "    ious = np.zeros((rows, cols), dtype=np.float32)\n",
    "    if rows * cols == 0:\n",
    "        return ious\n",
    "    exchange = False\n",
    "    if bboxes1.shape[0] > bboxes2.shape[0]:\n",
    "        bboxes1, bboxes2 = bboxes2, bboxes1\n",
    "        ious = np.zeros((cols, rows), dtype=np.float32)\n",
    "        exchange = True\n",
    "    area1 = (bboxes1[:, 2] - bboxes1[:, 0] + 1) * (\n",
    "        bboxes1[:, 3] - bboxes1[:, 1] + 1)\n",
    "    area2 = (bboxes2[:, 2] - bboxes2[:, 0] + 1) * (\n",
    "        bboxes2[:, 3] - bboxes2[:, 1] + 1)\n",
    "    for i in range(bboxes1.shape[0]):\n",
    "        x_start = np.maximum(bboxes1[i, 0], bboxes2[:, 0])\n",
    "        y_start = np.maximum(bboxes1[i, 1], bboxes2[:, 1])\n",
    "        x_end = np.minimum(bboxes1[i, 2], bboxes2[:, 2])\n",
    "        y_end = np.minimum(bboxes1[i, 3], bboxes2[:, 3])\n",
    "        print(x_start, y_start, x_end, y_end)\n",
    "        overlap = np.maximum(x_end - x_start + 1, 0) * np.maximum(\n",
    "            y_end - y_start + 1, 0)\n",
    "        print(overlap)\n",
    "        print(area1[i])\n",
    "        print(area2)\n",
    "        if mode == 'iou':\n",
    "            union = area1[i] + area2 - overlap\n",
    "        else:\n",
    "            union = area1[i] if not exchange else area2\n",
    "        ious[i, :] = overlap / union\n",
    "    if exchange:\n",
    "        ious = ious.T\n",
    "    return ious\n"
   ]
  },
  {
   "cell_type": "code",
   "execution_count": 11,
   "metadata": {},
   "outputs": [
    {
     "name": "stdout",
     "output_type": "stream",
     "text": [
      "[1. 2. 3.] [1. 2. 3.] [2. 2. 2.] [2. 2. 2.]\n",
      "[4. 1. 0.]\n",
      "4.0\n",
      "[4. 1. 0.]\n"
     ]
    },
    {
     "data": {
      "text/plain": [
       "array([[1.  , 0.25, 0.  ]], dtype=float32)"
      ]
     },
     "execution_count": 11,
     "metadata": {},
     "output_type": "execute_result"
    }
   ],
   "source": [
    "bbox_overlaps(np.array([[1,1,2,2]]), np.array([[1,1,2,2], [2,2,2,2], [4,4,2,2]]))"
   ]
  },
  {
   "cell_type": "code",
   "execution_count": 5,
   "metadata": {},
   "outputs": [
    {
     "data": {
      "text/plain": [
       "tensor([ True,  True, False,  True])"
      ]
     },
     "execution_count": 5,
     "metadata": {},
     "output_type": "execute_result"
    }
   ],
   "source": [
    "a>0"
   ]
  },
  {
   "cell_type": "code",
   "execution_count": 12,
   "metadata": {},
   "outputs": [
    {
     "data": {
      "text/plain": [
       "[{'name': '菜鸟教程', 'url': 'www.runoob.com'},\n",
       " {'name': 'google', 'url': 'www.google.com'},\n",
       " {'name': '微博', 'url': 'www.weibo.com'}]"
      ]
     },
     "execution_count": 12,
     "metadata": {},
     "output_type": "execute_result"
    }
   ],
   "source": [
    "mmcv.is_str\n",
    "@DETECTORS.register_module"
   ]
  },
  {
   "cell_type": "code",
   "execution_count": 3,
   "metadata": {},
   "outputs": [],
   "source": [
    "a = torch.rand(3,3,96,96)"
   ]
  },
  {
   "cell_type": "code",
   "execution_count": 27,
   "metadata": {},
   "outputs": [],
   "source": [
    "conv1 = nn.Conv2d(3, 3, kernel_size=3, padding = 1, stride = 2)"
   ]
  },
  {
   "cell_type": "code",
   "execution_count": 36,
   "metadata": {},
   "outputs": [],
   "source": [
    "class Residual(nn.Module):\n",
    "    def __init__(self, input_channel, output_channel, use_conv = False, strides = 1):\n",
    "        super().__init__()\n",
    "        self.conv1 = nn.Conv2d(input_channel, output_channel, kernel_size = 3, padding = 1, stride = strides)\n",
    "        self.conv2 = nn.Conv2d(output_channel, output_channel, kernel_size = 3, padding = 1)\n",
    "        if use_conv:\n",
    "            self.conv3 = nn.Conv2d(input_channel, output_channel, kernel_size = 1, stride = strides)\n",
    "        else:\n",
    "            self.conv3 = None\n",
    "        self.bn1 = nn.BatchNorm2d(output_channel)\n",
    "        self.bn2 = nn.BatchNorm2d(output_channel)\n",
    "        self.relu = nn.ReLU(inplace = True)\n",
    "        self.use_conv = use_conv\n",
    "        self.strides = strides\n",
    "    \n",
    "    def forward(self, x):\n",
    "        y = self.conv1(x)\n",
    "        y = self.bn1(y)\n",
    "        y = self.relu(y)\n",
    "        \n",
    "        y = self.conv2(y)\n",
    "        y = self.bn2(y)\n",
    "        \n",
    "        if self.use_conv:\n",
    "            print('before 1*1', x.shape)\n",
    "            x = self.conv3(x)\n",
    "            print('after 1*1', x.shape)\n",
    "            y += x\n",
    "        \n",
    "        y = self.relu(y)\n",
    "        return y"
   ]
  },
  {
   "cell_type": "code",
   "execution_count": 39,
   "metadata": {},
   "outputs": [],
   "source": [
    "m = Residual(3, 6, True, 2)"
   ]
  },
  {
   "cell_type": "code",
   "execution_count": 40,
   "metadata": {},
   "outputs": [
    {
     "name": "stdout",
     "output_type": "stream",
     "text": [
      "torch.Size([3, 3, 96, 96])\n",
      "before 1*1 torch.Size([3, 3, 96, 96])\n",
      "after 1*1 torch.Size([3, 6, 48, 48])\n",
      "torch.Size([3, 6, 48, 48])\n"
     ]
    }
   ],
   "source": [
    "print(a.shape)\n",
    "b = m(a)\n",
    "print(b.shape)"
   ]
  },
  {
   "cell_type": "code",
   "execution_count": 44,
   "metadata": {},
   "outputs": [],
   "source": [
    "bn = nn.BatchNorm2d(3)"
   ]
  },
  {
   "cell_type": "code",
   "execution_count": 41,
   "metadata": {},
   "outputs": [
    {
     "ename": "IndentationError",
     "evalue": "expected an indented block (3945509248.py, line 4)",
     "output_type": "error",
     "traceback": [
      "\u001b[0;36m  File \u001b[0;32m\"/tmp/ipykernel_3922/3945509248.py\"\u001b[0;36m, line \u001b[0;32m4\u001b[0m\n\u001b[0;31m    else: shape = (1, num_features, 1, 1)\u001b[0m\n\u001b[0m       ^\u001b[0m\n\u001b[0;31mIndentationError\u001b[0m\u001b[0;31m:\u001b[0m expected an indented block\n"
     ]
    }
   ],
   "source": [
    "class BatchNorm(nn.Module): \n",
    "    # `num_features`：完全连接层的输出数量或卷积层的输出通道数。 \n",
    "    # `num_dims`：2表⽰完全连接层，4表⽰卷积层 \n",
    "    def __init__(self, num_features, num_dims): \n",
    "        super().__init__() \n",
    "        if num_dims == 2: \n",
    "            shape = (1, num_features)\n",
    "        else: \n",
    "            shape = (1, num_features, 1, 1)\n",
    "    # 参与求梯度和迭代的拉伸和偏移参数，分别初始化成1和0 \n",
    "        self.gamma = nn.Parameter(torch.ones(shape)) \n",
    "        self.beta = nn.Parameter(torch.zeros(shape)) \n",
    "    # ⾮模型参数的变量初始化为0和1 \n",
    "        self.moving_mean = torch.zeros(shape)\n",
    "        self.moving_var = torch.ones(shape)\n",
    "        \n",
    "    def forward(x):\n",
    "        "
   ]
  },
  {
   "cell_type": "code",
   "execution_count": 50,
   "metadata": {},
   "outputs": [
    {
     "name": "stdout",
     "output_type": "stream",
     "text": [
      "False\n"
     ]
    }
   ],
   "source": [
    "with torch.no_grad():\n",
    "    print(torch.is_grad_enabled())"
   ]
  },
  {
   "cell_type": "code",
   "execution_count": 53,
   "metadata": {},
   "outputs": [
    {
     "name": "stdout",
     "output_type": "stream",
     "text": [
      "Dropout(p=0.2, inplace=False)\n",
      "Dropout(p=0.2, inplace=False)\n"
     ]
    }
   ],
   "source": [
    "fn = nn.Dropout(0.2)\n",
    "print(fn)\n",
    "with torch.no_grad():\n",
    "    print(fn)"
   ]
  },
  {
   "cell_type": "code",
   "execution_count": 54,
   "metadata": {},
   "outputs": [],
   "source": [
    "d = {'abc':3,'bc':2, 'de':4}"
   ]
  },
  {
   "cell_type": "code",
   "execution_count": 58,
   "metadata": {},
   "outputs": [
    {
     "data": {
      "text/plain": [
       "[('de', 4), ('abc', 3), ('bc', 2)]"
      ]
     },
     "execution_count": 58,
     "metadata": {},
     "output_type": "execute_result"
    }
   ],
   "source": [
    "sorted(d.items(), key = lambda x: -x[1])"
   ]
  },
  {
   "cell_type": "code",
   "execution_count": 59,
   "metadata": {},
   "outputs": [],
   "source": [
    "import copy"
   ]
  },
  {
   "cell_type": "code",
   "execution_count": 68,
   "metadata": {},
   "outputs": [],
   "source": [
    "list1 = [[1,2],2,3]\n",
    "list2 = list(list1)\n",
    "list3 = copy.deepcopy(list1)"
   ]
  },
  {
   "cell_type": "code",
   "execution_count": 70,
   "metadata": {},
   "outputs": [],
   "source": [
    "list1[0].append(3)"
   ]
  },
  {
   "cell_type": "code",
   "execution_count": 71,
   "metadata": {},
   "outputs": [
    {
     "data": {
      "text/plain": [
       "[[1, 2, 3], 2, 3]"
      ]
     },
     "execution_count": 71,
     "metadata": {},
     "output_type": "execute_result"
    }
   ],
   "source": [
    "list1"
   ]
  },
  {
   "cell_type": "code",
   "execution_count": 72,
   "metadata": {},
   "outputs": [
    {
     "data": {
      "text/plain": [
       "[[1, 2, 3], 2, 3]"
      ]
     },
     "execution_count": 72,
     "metadata": {},
     "output_type": "execute_result"
    }
   ],
   "source": [
    "list2"
   ]
  },
  {
   "cell_type": "markdown",
   "metadata": {},
   "source": [
    "### Focal Loss"
   ]
  },
  {
   "cell_type": "code",
   "execution_count": 65,
   "metadata": {},
   "outputs": [],
   "source": [
    "def focal_loss(preds, gts, reduction = None):\n",
    "    \"\"\"[focal loss]\n",
    "    - alpha_class * (1-p_class) ** gamma * log(p_class)\n",
    "\n",
    "    Args:\n",
    "        preds ([type]): [description]\n",
    "        gts ([type]): [description]\n",
    "    \"\"\"\n",
    "    alpha = torch.full([preds.shape[1]], 0.25)\n",
    "    \n",
    "    pred_softmax = F.softmax(preds, dim=1) # p_class\n",
    "    pred_log = torch.log(pred_softmax) # log(p_class)\n",
    "    \n",
    "    pred_softmax = torch.gather(pred_softmax, 1, gts.view(-1, 1))\n",
    "    pred_log = torch.gather(pred_log, 1, gts.view(-1, 1))\n",
    "    alpha_class = torch.gather(alpha, 0, gts.view(-1)).view(-1, 1)\n",
    "    \n",
    "    gamma = 2\n",
    "    print(pred_softmax.shape)\n",
    "    print('alpha_class', alpha_class.shape)\n",
    "    \n",
    "    loss = - alpha_class * (1 - pred_softmax) ** gamma * pred_log\n",
    "    \n",
    "    print(loss.shape)\n",
    "    \n",
    "    if reduction:\n",
    "        if reduction == 'mean':\n",
    "            loss = loss.mean()\n",
    "        elif reduction == 'sum':\n",
    "            loss = loss.sum()\n",
    "    print(loss.shape)\n",
    "    return loss"
   ]
  },
  {
   "cell_type": "code",
   "execution_count": 55,
   "metadata": {},
   "outputs": [],
   "source": [
    "preds = torch.rand(5, 10)\n",
    "labels = torch.randint(0, 10, (5,))"
   ]
  },
  {
   "cell_type": "code",
   "execution_count": 66,
   "metadata": {},
   "outputs": [
    {
     "name": "stdout",
     "output_type": "stream",
     "text": [
      "torch.Size([5, 1])\n",
      "alpha_class torch.Size([5, 1])\n",
      "torch.Size([5, 1])\n",
      "torch.Size([])\n"
     ]
    },
    {
     "data": {
      "text/plain": [
       "tensor(2.4082)"
      ]
     },
     "execution_count": 66,
     "metadata": {},
     "output_type": "execute_result"
    }
   ],
   "source": [
    "focal_loss(preds, labels, 'sum')"
   ]
  },
  {
   "cell_type": "markdown",
   "metadata": {},
   "source": [
    "### Kmeans"
   ]
  },
  {
   "cell_type": "code",
   "execution_count": 81,
   "metadata": {},
   "outputs": [],
   "source": [
    "data = torch.randn((10000, 2))"
   ]
  },
  {
   "cell_type": "code",
   "execution_count": 82,
   "metadata": {},
   "outputs": [
    {
     "data": {
      "text/plain": [
       "<matplotlib.collections.PathCollection at 0x7fda3ac20690>"
      ]
     },
     "execution_count": 82,
     "metadata": {},
     "output_type": "execute_result"
    },
    {
     "data": {
      "image/png": "[encoded data removed]",
      "text/plain": [
       "<Figure size 432x288 with 1 Axes>"
      ]
     },
     "metadata": {
      "needs_background": "light"
     },
     "output_type": "display_data"
    }
   ],
   "source": [
    "plt.scatter(*data.T)"
   ]
  },
  {
   "cell_type": "code",
   "execution_count": 84,
   "metadata": {},
   "outputs": [],
   "source": [
    "ids = np.random.choice(range(data.shape[0]), 10, replace=False)"
   ]
  },
  {
   "cell_type": "code",
   "execution_count": 111,
   "metadata": {},
   "outputs": [],
   "source": [
    "def kmean(data, k = 10, iterations = 3):\n",
    "    center_id = np.random.choice(range(data.shape[0]), k, replace=False)\n",
    "    mp =  np.zeros(data.shape[0])\n",
    "    centers = data[center_id]\n",
    "    \n",
    "    has_change = False\n",
    "    num_iter = 0\n",
    "    while ~has_change and num_iter < iterations:\n",
    "        num_iter += 1\n",
    "        for i in range(data.shape[0]):\n",
    "            mindist = float('inf')\n",
    "            minid = k - 1\n",
    "            for j in range(k):\n",
    "                dist = np.linalg.norm((data[i] - centers[j]))\n",
    "                if dist < mindist:\n",
    "                    mindist = dist\n",
    "                    minid = j\n",
    "            mp[i] = minid\n",
    "        \n",
    "        for i in range(k):\n",
    "            datak = data[np.where(mp == i)]\n",
    "            centers[i] = datak.mean(dim = 0)\n",
    "            \n",
    "    return centers, mp"
   ]
  },
  {
   "cell_type": "code",
   "execution_count": 115,
   "metadata": {},
   "outputs": [],
   "source": [
    "centers, mp = kmean(data, 5, 10)"
   ]
  },
  {
   "cell_type": "code",
   "execution_count": 116,
   "metadata": {},
   "outputs": [
    {
     "data": {
      "text/plain": [
       "<matplotlib.collections.PathCollection at 0x7fda3abea6d0>"
      ]
     },
     "execution_count": 116,
     "metadata": {},
     "output_type": "execute_result"
    },
    {
     "data": {
      "image/png": "[encoded data removed]",
      "text/plain": [
       "<Figure size 432x288 with 1 Axes>"
      ]
     },
     "metadata": {
      "needs_background": "light"
     },
     "output_type": "display_data"
    }
   ],
   "source": [
    "color_label = ['c', 'b', 'g', 'r', 'm', 'y', 'k', 'w']\n",
    "plt.scatter(*data.T, c=mp)"
   ]
  },
  {
   "cell_type": "markdown",
   "metadata": {},
   "source": [
    "### Smooth l1"
   ]
  },
  {
   "cell_type": "code",
   "execution_count": 126,
   "metadata": {},
   "outputs": [],
   "source": [
    "def smoothl1(x, y, beta = 1):\n",
    "    diff = torch.abs(y - x)\n",
    "    loss = torch.where(diff > beta, diff - 0.5 * beta, 0.5 * diff * diff / beta)\n",
    "    return loss"
   ]
  },
  {
   "cell_type": "code",
   "execution_count": 127,
   "metadata": {},
   "outputs": [],
   "source": [
    "x = torch.tensor([1,2,3])\n",
    "y = torch.tensor([1.2,3,9])"
   ]
  },
  {
   "cell_type": "code",
   "execution_count": 128,
   "metadata": {},
   "outputs": [
    {
     "data": {
      "text/plain": [
       "tensor([0.0200, 0.5000, 5.5000])"
      ]
     },
     "execution_count": 128,
     "metadata": {},
     "output_type": "execute_result"
    }
   ],
   "source": [
    "smoothl1(x, y)"
   ]
  },
  {
   "cell_type": "markdown",
   "metadata": {},
   "source": [
    "### Deconvolution"
   ]
  },
  {
   "cell_type": "code",
   "execution_count": 133,
   "metadata": {},
   "outputs": [
    {
     "name": "stdout",
     "output_type": "stream",
     "text": [
      "Parameter containing:\n",
      "tensor([[[[1., 1., 1.],\n",
      "          [1., 1., 1.],\n",
      "          [1., 1., 1.]]]], requires_grad=True)\n",
      "torch.Size([1, 1, 2, 2])\n",
      "torch.Size([1, 1, 1, 1])\n"
     ]
    },
    {
     "name": "stderr",
     "output_type": "stream",
     "text": [
      "/home/ruize/miniconda3/envs/mmdet/lib/python3.7/site-packages/ipykernel_launcher.py:2: UserWarning: nn.init.constant is now deprecated in favor of nn.init.constant_.\n",
      "  \n"
     ]
    }
   ],
   "source": [
    "dconv = nn.ConvTranspose2d(in_channels=1, out_channels= 1, kernel_size=3, stride=2, padding=1,output_padding=0, bias= False)\n",
    "init.constant(dconv.weight, 1)\n",
    "print(dconv.weight)\n",
    "\n",
    "input = Variable(torch.ones(1, 1, 2, 2))\n",
    "print(input.shape)\n",
    "print(dconv(input).shape)"
   ]
  }
 ],
 "metadata": {
  "interpreter": {
   "hash": "2e33cc255cd8f56e9f2a1fa44747450d9fecd9d721311cba30d1bc9a1db7f22e"
  },
  "kernelspec": {
   "display_name": "Python 3.7.10 64-bit ('mmdet': conda)",
   "language": "python",
   "name": "python3"
  },
  "language_info": {
   "codemirror_mode": {
    "name": "ipython",
    "version": 3
   },
   "file_extension": ".py",
   "mimetype": "text/x-python",
   "name": "python",
   "nbconvert_exporter": "python",
   "pygments_lexer": "ipython3",
   "version": "3.7.10"
  },
  "orig_nbformat": 4
 },
 "nbformat": 4,
 "nbformat_minor": 2
}
